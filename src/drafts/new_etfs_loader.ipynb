{
 "cells": [
  {
   "cell_type": "code",
   "execution_count": 1,
   "metadata": {},
   "outputs": [
    {
     "name": "stdout",
     "output_type": "stream",
     "text": [
      "Intel MKL WARNING: Support of Intel(R) Streaming SIMD Extensions 4.2 (Intel(R) SSE4.2) enabled only processors has been deprecated. Intel oneAPI Math Kernel Library 2025.0 will require Intel(R) Advanced Vector Extensions (Intel(R) AVX) instructions.\n",
      "Intel MKL WARNING: Support of Intel(R) Streaming SIMD Extensions 4.2 (Intel(R) SSE4.2) enabled only processors has been deprecated. Intel oneAPI Math Kernel Library 2025.0 will require Intel(R) Advanced Vector Extensions (Intel(R) AVX) instructions.\n"
     ]
    }
   ],
   "source": [
    "import os\n",
    "import glob\n",
    "import pandas as pd\n",
    "from tqdm import tqdm"
   ]
  },
  {
   "cell_type": "code",
   "execution_count": 3,
   "metadata": {},
   "outputs": [],
   "source": [
    "inputs_path = os.path.join(os.getcwd(), \"data\", \"inputs\")\n",
    "fields = [\"close\"]\n",
    "years = [\"2010\", \"2011\", \"2012\", \"2013\", \"2014\", \"2015\", \"2016\", \"2017\", \"2018\", \"2019\", \"2020\", \"2021\"]"
   ]
  },
  {
   "cell_type": "code",
   "execution_count": 5,
   "metadata": {},
   "outputs": [
    {
     "name": "stderr",
     "output_type": "stream",
     "text": [
      "Loading All ETFs Data: 100%|██████████| 12/12 [00:46<00:00,  3.87s/it]\n"
     ]
    }
   ],
   "source": [
    "etfs = []\n",
    "for y in tqdm(years, total=len(years), desc=\"Loading All ETFs Data\"):\n",
    "    files = glob.glob(os.path.join(inputs_path, \"new_etfs\", y, \"*.csv.gz\"))\n",
    "\n",
    "    for f in files:\n",
    "        tmp_df = pd.read_csv(f,\n",
    "                            compression='gzip',\n",
    "                            error_bad_lines=False)\n",
    "        tmp_df = tmp_df[[\"ticker\"] + fields]\n",
    "        tmp_df[\"date\"] = pd.to_datetime(f.split(os.sep)[-1].split(\".\")[0])\n",
    "\n",
    "        pivot_tmp_df = tmp_df.pivot_table(index=[\"date\"], columns=[\"ticker\"], values=[\"close\"])\n",
    "        pivot_tmp_df.index.name = None\n",
    "        pivot_tmp_df.columns = pivot_tmp_df.columns.droplevel(0)\n",
    "\n",
    "        etfs.append(pivot_tmp_df)\n",
    "etfs_df = pd.concat(etfs, axis=0)\n",
    "etfs_df = etfs_df.sort_index()"
   ]
  },
  {
   "cell_type": "code",
   "execution_count": 6,
   "metadata": {},
   "outputs": [
    {
     "data": {
      "text/html": [
       "<div>\n",
       "<style scoped>\n",
       "    .dataframe tbody tr th:only-of-type {\n",
       "        vertical-align: middle;\n",
       "    }\n",
       "\n",
       "    .dataframe tbody tr th {\n",
       "        vertical-align: top;\n",
       "    }\n",
       "\n",
       "    .dataframe thead th {\n",
       "        text-align: right;\n",
       "    }\n",
       "</style>\n",
       "<table border=\"1\" class=\"dataframe\">\n",
       "  <thead>\n",
       "    <tr style=\"text-align: right;\">\n",
       "      <th>ticker</th>\n",
       "      <th>AA</th>\n",
       "      <th>AAN</th>\n",
       "      <th>AAP</th>\n",
       "      <th>AB</th>\n",
       "      <th>ABB</th>\n",
       "      <th>ABC</th>\n",
       "      <th>ABG</th>\n",
       "      <th>ABM</th>\n",
       "      <th>ABR</th>\n",
       "      <th>ABT</th>\n",
       "      <th>...</th>\n",
       "      <th>XLP</th>\n",
       "      <th>XLU</th>\n",
       "      <th>XLV</th>\n",
       "      <th>XLY</th>\n",
       "      <th>XOM</th>\n",
       "      <th>XPO</th>\n",
       "      <th>XRX</th>\n",
       "      <th>Y</th>\n",
       "      <th>YUM</th>\n",
       "      <th>ZTR</th>\n",
       "    </tr>\n",
       "  </thead>\n",
       "  <tbody>\n",
       "    <tr>\n",
       "      <th>2010-01-04</th>\n",
       "      <td>16.65</td>\n",
       "      <td>27.81</td>\n",
       "      <td>40.38</td>\n",
       "      <td>28.40</td>\n",
       "      <td>19.64</td>\n",
       "      <td>26.63</td>\n",
       "      <td>11.83</td>\n",
       "      <td>21.26</td>\n",
       "      <td>1.97</td>\n",
       "      <td>54.46</td>\n",
       "      <td>...</td>\n",
       "      <td>26.67</td>\n",
       "      <td>31.08</td>\n",
       "      <td>31.61</td>\n",
       "      <td>30.00</td>\n",
       "      <td>69.15</td>\n",
       "      <td>1.2800</td>\n",
       "      <td>8.63</td>\n",
       "      <td>274.04999</td>\n",
       "      <td>35.09</td>\n",
       "      <td>3.92</td>\n",
       "    </tr>\n",
       "    <tr>\n",
       "      <th>2010-01-05</th>\n",
       "      <td>16.13</td>\n",
       "      <td>27.90</td>\n",
       "      <td>40.14</td>\n",
       "      <td>28.37</td>\n",
       "      <td>19.77</td>\n",
       "      <td>26.44</td>\n",
       "      <td>12.39</td>\n",
       "      <td>20.97</td>\n",
       "      <td>1.92</td>\n",
       "      <td>54.02</td>\n",
       "      <td>...</td>\n",
       "      <td>26.68</td>\n",
       "      <td>30.71</td>\n",
       "      <td>31.30</td>\n",
       "      <td>30.11</td>\n",
       "      <td>69.42</td>\n",
       "      <td>1.2800</td>\n",
       "      <td>8.64</td>\n",
       "      <td>273.95001</td>\n",
       "      <td>34.97</td>\n",
       "      <td>3.92</td>\n",
       "    </tr>\n",
       "    <tr>\n",
       "      <th>2010-01-06</th>\n",
       "      <td>16.97</td>\n",
       "      <td>28.11</td>\n",
       "      <td>40.49</td>\n",
       "      <td>28.38</td>\n",
       "      <td>20.00</td>\n",
       "      <td>26.19</td>\n",
       "      <td>12.76</td>\n",
       "      <td>20.97</td>\n",
       "      <td>2.14</td>\n",
       "      <td>54.32</td>\n",
       "      <td>...</td>\n",
       "      <td>26.66</td>\n",
       "      <td>30.89</td>\n",
       "      <td>31.62</td>\n",
       "      <td>30.15</td>\n",
       "      <td>70.02</td>\n",
       "      <td>1.2500</td>\n",
       "      <td>8.56</td>\n",
       "      <td>274.04001</td>\n",
       "      <td>34.72</td>\n",
       "      <td>3.93</td>\n",
       "    </tr>\n",
       "    <tr>\n",
       "      <th>2010-01-07</th>\n",
       "      <td>16.61</td>\n",
       "      <td>28.11</td>\n",
       "      <td>40.48</td>\n",
       "      <td>28.40</td>\n",
       "      <td>20.17</td>\n",
       "      <td>25.77</td>\n",
       "      <td>13.05</td>\n",
       "      <td>21.24</td>\n",
       "      <td>2.25</td>\n",
       "      <td>54.77</td>\n",
       "      <td>...</td>\n",
       "      <td>26.66</td>\n",
       "      <td>30.75</td>\n",
       "      <td>31.73</td>\n",
       "      <td>30.40</td>\n",
       "      <td>69.80</td>\n",
       "      <td>1.2400</td>\n",
       "      <td>8.60</td>\n",
       "      <td>271.98001</td>\n",
       "      <td>34.71</td>\n",
       "      <td>3.92</td>\n",
       "    </tr>\n",
       "    <tr>\n",
       "      <th>2010-01-08</th>\n",
       "      <td>17.02</td>\n",
       "      <td>28.14</td>\n",
       "      <td>40.64</td>\n",
       "      <td>29.27</td>\n",
       "      <td>20.74</td>\n",
       "      <td>26.05</td>\n",
       "      <td>13.15</td>\n",
       "      <td>21.22</td>\n",
       "      <td>2.30</td>\n",
       "      <td>55.05</td>\n",
       "      <td>...</td>\n",
       "      <td>26.57</td>\n",
       "      <td>30.72</td>\n",
       "      <td>31.78</td>\n",
       "      <td>30.39</td>\n",
       "      <td>69.52</td>\n",
       "      <td>1.2799</td>\n",
       "      <td>8.57</td>\n",
       "      <td>270.42999</td>\n",
       "      <td>34.72</td>\n",
       "      <td>3.95</td>\n",
       "    </tr>\n",
       "  </tbody>\n",
       "</table>\n",
       "<p>5 rows × 1426 columns</p>\n",
       "</div>"
      ],
      "text/plain": [
       "ticker         AA    AAN    AAP     AB    ABB    ABC    ABG    ABM   ABR  \\\n",
       "2010-01-04  16.65  27.81  40.38  28.40  19.64  26.63  11.83  21.26  1.97   \n",
       "2010-01-05  16.13  27.90  40.14  28.37  19.77  26.44  12.39  20.97  1.92   \n",
       "2010-01-06  16.97  28.11  40.49  28.38  20.00  26.19  12.76  20.97  2.14   \n",
       "2010-01-07  16.61  28.11  40.48  28.40  20.17  25.77  13.05  21.24  2.25   \n",
       "2010-01-08  17.02  28.14  40.64  29.27  20.74  26.05  13.15  21.22  2.30   \n",
       "\n",
       "ticker        ABT  ...    XLP    XLU    XLV    XLY    XOM     XPO   XRX  \\\n",
       "2010-01-04  54.46  ...  26.67  31.08  31.61  30.00  69.15  1.2800  8.63   \n",
       "2010-01-05  54.02  ...  26.68  30.71  31.30  30.11  69.42  1.2800  8.64   \n",
       "2010-01-06  54.32  ...  26.66  30.89  31.62  30.15  70.02  1.2500  8.56   \n",
       "2010-01-07  54.77  ...  26.66  30.75  31.73  30.40  69.80  1.2400  8.60   \n",
       "2010-01-08  55.05  ...  26.57  30.72  31.78  30.39  69.52  1.2799  8.57   \n",
       "\n",
       "ticker              Y    YUM   ZTR  \n",
       "2010-01-04  274.04999  35.09  3.92  \n",
       "2010-01-05  273.95001  34.97  3.92  \n",
       "2010-01-06  274.04001  34.72  3.93  \n",
       "2010-01-07  271.98001  34.71  3.92  \n",
       "2010-01-08  270.42999  34.72  3.95  \n",
       "\n",
       "[5 rows x 1426 columns]"
      ]
     },
     "execution_count": 6,
     "metadata": {},
     "output_type": "execute_result"
    }
   ],
   "source": [
    "etfs_df.dropna(axis=1, how=\"any\").head()"
   ]
  },
  {
   "cell_type": "code",
   "execution_count": 2,
   "metadata": {},
   "outputs": [],
   "source": [
    "from data.NewETFs import NewETFs"
   ]
  },
  {
   "cell_type": "code",
   "execution_count": 3,
   "metadata": {},
   "outputs": [
    {
     "name": "stderr",
     "output_type": "stream",
     "text": [
      "Loading All ETFs Data: 100%|██████████| 12/12 [00:47<00:00,  3.98s/it]\n"
     ]
    }
   ],
   "source": [
    "loader = NewETFs()"
   ]
  },
  {
   "cell_type": "code",
   "execution_count": 4,
   "metadata": {},
   "outputs": [
    {
     "data": {
      "text/plain": [
       "torch.Size([1426, 1, 3019])"
      ]
     },
     "execution_count": 4,
     "metadata": {},
     "output_type": "execute_result"
    }
   ],
   "source": [
    "loader.X.shape"
   ]
  },
  {
   "cell_type": "code",
   "execution_count": 5,
   "metadata": {},
   "outputs": [
    {
     "data": {
      "text/plain": [
       "torch.Size([1426, 3019])"
      ]
     },
     "execution_count": 5,
     "metadata": {},
     "output_type": "execute_result"
    }
   ],
   "source": [
    "loader.y.shape"
   ]
  },
  {
   "cell_type": "code",
   "execution_count": null,
   "metadata": {},
   "outputs": [],
   "source": []
  }
 ],
 "metadata": {
  "kernelspec": {
   "display_name": "graph-popt",
   "language": "python",
   "name": "python3"
  },
  "language_info": {
   "codemirror_mode": {
    "name": "ipython",
    "version": 3
   },
   "file_extension": ".py",
   "mimetype": "text/x-python",
   "name": "python",
   "nbconvert_exporter": "python",
   "pygments_lexer": "ipython3",
   "version": "3.10.0"
  },
  "orig_nbformat": 4
 },
 "nbformat": 4,
 "nbformat_minor": 2
}
