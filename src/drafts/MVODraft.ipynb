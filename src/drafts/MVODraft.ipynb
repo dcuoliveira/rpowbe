{
 "cells": [
  {
   "cell_type": "code",
   "execution_count": 2,
   "metadata": {},
   "outputs": [],
   "source": [
    "import torch\n",
    "import numpy as np\n",
    "import cvxopt as opt\n",
    "from cvxopt import solvers\n",
    "import os\n",
    "\n",
    "from models.MVO import MVO\n",
    "from data.NewETFs import NewETFs\n",
    "from utils.dataset_utils import create_rolling_window_ts, timeseries_train_test_split"
   ]
  },
  {
   "cell_type": "code",
   "execution_count": 3,
   "metadata": {},
   "outputs": [],
   "source": [
    "model_name = \"mvo\"\n",
    "train_ratio = 0.6\n",
    "num_timesteps_in = 252\n",
    "num_timesteps_out = 1\n",
    "fix_start = False\n",
    "drop_last = True\n",
    "\n",
    "# relevant paths\n",
    "# source_path = os.path.dirname(__file__)\n",
    "source_path = os.getcwd()\n",
    "inputs_path = os.path.join(source_path, \"data\", \"inputs\")\n",
    "\n",
    "# prepare dataset\n",
    "loader = NewETFs(use_last_data=True, use_first_50_etfs=True)\n",
    "prices = loader.prices.T\n",
    "returns = loader.returns.T\n",
    "features = loader.features\n",
    "features = features.reshape(features.shape[0], features.shape[1] * features.shape[2]).T  \n",
    "\n",
    "X_steps, prices_steps = create_rolling_window_ts(features=features, \n",
    "                                                    target=prices,\n",
    "                                                    num_timesteps_in=num_timesteps_in,\n",
    "                                                    num_timesteps_out=num_timesteps_out,\n",
    "                                                    fix_start=fix_start,\n",
    "                                                    drop_last=drop_last)\n",
    "\n",
    "# call model\n",
    "model = MVO()\n",
    "\n",
    "# training/validation + oos testing\n",
    "test_weights = []\n",
    "train_loss = val_loss = test_loss = []\n",
    "# for step in range(X_steps.shape[0]):\n",
    "#     X_t = X_steps[step, :, :]\n",
    "#     prices_t1 = prices_steps[step, :, :]\n",
    "\n",
    "#     weights = model.forward(X_t)\n",
    "\n",
    "step = 0\n",
    "X_t = X_steps[step, :, :]\n",
    "prices_t1 = prices_steps[step, :, :]"
   ]
  },
  {
   "cell_type": "code",
   "execution_count": 5,
   "metadata": {},
   "outputs": [
    {
     "data": {
      "text/plain": [
       "tensor([[-0.0317,  0.0032, -0.0060,  ...,  0.0347, -0.0237,  0.0533],\n",
       "        [ 0.0508,  0.0075,  0.0087,  ..., -0.0161, -0.0272, -0.0090],\n",
       "        [-0.0214,  0.0000, -0.0002,  ..., -0.0089,  0.0053, -0.0052],\n",
       "        ...,\n",
       "        [ 0.0118,  0.0059, -0.0086,  ..., -0.0025,  0.0061, -0.0140],\n",
       "        [ 0.0263,  0.0156, -0.0099,  ...,  0.0310,  0.0093,  0.0208],\n",
       "        [ 0.0446, -0.0185, -0.0511,  ..., -0.0141, -0.0389, -0.0082]])"
      ]
     },
     "execution_count": 5,
     "metadata": {},
     "output_type": "execute_result"
    }
   ],
   "source": [
    "X_t"
   ]
  },
  {
   "cell_type": "code",
   "execution_count": 33,
   "metadata": {},
   "outputs": [],
   "source": [
    "risk_aversion = 1\n",
    "T = X_t.shape[0]\n",
    "n = X_t.shape[1]\n",
    "\n",
    "# mle of the mean\n",
    "mean_t = torch.mean(X_t, axis=0)\n",
    "\n",
    "# mle of the covariance\n",
    "cov_t = torch.matmul((X_t - mean_t).T, (X_t - mean_t)) / T\n",
    "\n",
    "# constraint 1: w_i >= 0 <=> -w_i <= 0, for all i\n",
    "c1 = torch.eye(n) * -1\n",
    "h = torch.zeros((n, 1))\n",
    "\n",
    "# constraint 2: \\sum w_i = 1\n",
    "c2 = torch.ones((1, n))\n",
    "b = 1.0\n",
    "\n",
    "# convert to cvxopt matrices\n",
    "P = opt.matrix(cov_t.numpy().astype(np.double))\n",
    "q = opt.matrix(mean_t.numpy().astype(np.double))\n",
    "G = opt.matrix(c1.numpy().astype(np.double))\n",
    "h = opt.matrix(h.numpy().astype(np.double)) \n",
    "A = opt.matrix(c2.numpy().astype(np.double))\n",
    "b = opt.matrix(b)"
   ]
  },
  {
   "cell_type": "code",
   "execution_count": 34,
   "metadata": {},
   "outputs": [
    {
     "name": "stdout",
     "output_type": "stream",
     "text": [
      "     pcost       dcost       gap    pres   dres\n",
      " 0: -6.6226e-04 -1.0040e+00  1e+00  0e+00  7e+00\n",
      " 1: -6.6475e-04 -1.4026e-02  1e-02  2e-17  1e-01\n",
      " 2: -8.2429e-04 -4.1095e-03  3e-03  1e-16  2e-02\n",
      " 3: -2.3461e-03 -5.7395e-03  3e-03  4e-16  2e-02\n",
      " 4: -3.1115e-03 -3.5403e-03  4e-04  2e-16  2e-03\n",
      " 5: -3.4973e-03 -3.5044e-03  7e-06  2e-16  4e-07\n",
      " 6: -3.5038e-03 -3.5039e-03  7e-08  1e-16  4e-09\n",
      "Optimal solution found.\n"
     ]
    }
   ],
   "source": [
    "opt_output = solvers.qp(P=(risk_aversion * P), q=(-1 * q), G=G, h=h, A=A, b=b) # minimizes the objective\n",
    "wt = torch.tensor(np.array(opt_output[\"x\"]))"
   ]
  },
  {
   "cell_type": "code",
   "execution_count": 35,
   "metadata": {},
   "outputs": [
    {
     "data": {
      "text/plain": [
       "tensor(1.0000, dtype=torch.float64)"
      ]
     },
     "execution_count": 35,
     "metadata": {},
     "output_type": "execute_result"
    }
   ],
   "source": [
    "torch.sum(wt)"
   ]
  },
  {
   "cell_type": "code",
   "execution_count": null,
   "metadata": {},
   "outputs": [],
   "source": []
  }
 ],
 "metadata": {
  "kernelspec": {
   "display_name": "graph-popt",
   "language": "python",
   "name": "python3"
  },
  "language_info": {
   "codemirror_mode": {
    "name": "ipython",
    "version": 3
   },
   "file_extension": ".py",
   "mimetype": "text/x-python",
   "name": "python",
   "nbconvert_exporter": "python",
   "pygments_lexer": "ipython3",
   "version": "3.10.0"
  },
  "orig_nbformat": 4
 },
 "nbformat": 4,
 "nbformat_minor": 2
}
