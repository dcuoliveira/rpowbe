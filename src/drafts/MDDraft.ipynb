{
 "cells": [
  {
   "cell_type": "code",
   "execution_count": 2,
   "metadata": {},
   "outputs": [],
   "source": [
    "import numpy as np\n",
    "from scipy.optimize import minimize"
   ]
  },
  {
   "cell_type": "code",
   "execution_count": 3,
   "metadata": {},
   "outputs": [
    {
     "name": "stdout",
     "output_type": "stream",
     "text": [
      "Optimal weights: [0.32141107 0.17678111 0.21807027 0.28373755]\n"
     ]
    }
   ],
   "source": [
    "# Define the expected returns, volatilities and the covariance matrix for 4 assets\n",
    "expected_returns = np.array([0.05, 0.1, 0.12, 0.07])\n",
    "volatilities = np.array([0.1, 0.2, 0.15, 0.12])\n",
    "covariance_matrix = np.array([\n",
    "    [0.01, 0.002, 0.0025, 0.0015],\n",
    "    [0.002, 0.04, 0.003, 0.0025],\n",
    "    [0.0025, 0.003, 0.0225, 0.002],\n",
    "    [0.0015, 0.0025, 0.002, 0.0144]\n",
    "])\n",
    "\n",
    "# Define the objective function to be minimized (negative of Diversification Ratio)\n",
    "def objective(weights):\n",
    "    portfolio_volatility = np.sqrt(weights.T @ covariance_matrix @ weights)\n",
    "    weighted_volatilities = weights.T @ volatilities\n",
    "    diversification_ratio = - weighted_volatilities / portfolio_volatility\n",
    "    return diversification_ratio\n",
    "\n",
    "# Constraint: weights must sum to 1\n",
    "constraints = ({'type': 'eq', 'fun': lambda w: np.sum(w) - 1})\n",
    "\n",
    "# Bounds: weights must be between 0 and 1\n",
    "bounds = [(0, 1) for _ in range(len(expected_returns))]\n",
    "\n",
    "# Initial guess for the weights (equal distribution)\n",
    "weights_init = np.repeat(1 / len(expected_returns), len(expected_returns))\n",
    "\n",
    "# Perform the optimization\n",
    "result = minimize(objective, weights_init, method='SLSQP', bounds=bounds, constraints=constraints)\n",
    "\n",
    "print('Optimal weights:', result.x)"
   ]
  },
  {
   "cell_type": "code",
   "execution_count": 4,
   "metadata": {},
   "outputs": [
    {
     "data": {
      "text/plain": [
       "1.0"
      ]
     },
     "execution_count": 4,
     "metadata": {},
     "output_type": "execute_result"
    }
   ],
   "source": [
    "result.x.sum()"
   ]
  },
  {
   "cell_type": "code",
   "execution_count": null,
   "metadata": {},
   "outputs": [],
   "source": []
  }
 ],
 "metadata": {
  "kernelspec": {
   "display_name": "graph-popt",
   "language": "python",
   "name": "python3"
  },
  "language_info": {
   "codemirror_mode": {
    "name": "ipython",
    "version": 3
   },
   "file_extension": ".py",
   "mimetype": "text/x-python",
   "name": "python",
   "nbconvert_exporter": "python",
   "pygments_lexer": "ipython3",
   "version": "3.10.0"
  },
  "orig_nbformat": 4
 },
 "nbformat": 4,
 "nbformat_minor": 2
}
